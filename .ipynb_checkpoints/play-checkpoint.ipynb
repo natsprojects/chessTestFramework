{
 "cells": [
  {
   "cell_type": "code",
   "execution_count": 138,
   "metadata": {
    "collapsed": true
   },
   "outputs": [],
   "source": [
    "import chess\n",
    "import pandas as pd\n",
    "import numpy as np\n",
    "import time\n",
    "import re\n",
    "import chess.uci\n",
    "from yaml import load, dump\n",
    "from yaml import CLoader as Loader, CDumper as Dumper\n",
    "import yaml\n"
   ]
  },
  {
   "cell_type": "code",
   "execution_count": 154,
   "metadata": {},
   "outputs": [
    {
     "data": {
      "text/plain": [
       "{'engines': {'stockfish': {'location': 'stockfish\\\\stockfish_8_x64',\n",
       "   'movetime': 200},\n",
       "  'sunfire': {'location': '\\\\home\\\\mike_heward\\\\AnacondaProjects\\\\chessprojects\\\\sunfish\\\\uci.py'}},\n",
       " 'gameFiles': ['100.pgn', '101.pgn', '102.pgn'],\n",
       " 'general': {'dataOutDir': '\\\\home\\\\mike_heward\\\\AnacondaProjects\\\\chessdata\\\\processed\\\\',\n",
       "  'engineRootDir': '\\\\home\\\\mike_heward\\\\AnacondaProjects\\\\chessdata\\\\engines\\\\',\n",
       "  'gamesDir': '\\\\home\\\\mike_heward\\\\AnacondaProjects\\\\chessdata\\\\games\\\\'}}"
      ]
     },
     "execution_count": 154,
     "metadata": {},
     "output_type": "execute_result"
    }
   ],
   "source": [
    "config=yaml.load(b\"\"\"\n",
    "general:\n",
    "   engineRootDir: /home/mike_heward/AnacondaProjects/chessdata/engines/\n",
    "   gamesDir: /home/mike_heward/AnacondaProjects/chessdata/games/\n",
    "   dataOutDir: /home/mike_heward/AnacondaProjects/chessdata/processed/\n",
    "engines:\n",
    "   stockfish:    \n",
    "       location: /home/mike_heward/AnacondaProjects/chessdata/engines/stockfish\n",
    "       movetime: 200\n",
    "   sunfish:\n",
    "       location:  /home/mike_heward/AnacondaProjects/chessproject/sunfish/uci.py\n",
    "       movetime: 1000\n",
    "gameFiles:   \n",
    "-  100.pgn\n",
    "-  101.pgn\n",
    "-  102.pgn\n",
    "\"\"\")\n",
    "loadConfig"
   ]
  },
  {
   "cell_type": "code",
   "execution_count": 155,
   "metadata": {},
   "outputs": [
    {
     "name": "stdout",
     "output_type": "stream",
     "text": [
      "/home/mike_heward/AnacondaProjects/chessdata/engines/stockfish\n"
     ]
    }
   ],
   "source": [
    "print(config['engines']['stockfish']['location'])"
   ]
  },
  {
   "cell_type": "code",
   "execution_count": 156,
   "metadata": {},
   "outputs": [],
   "source": [
    "def setupEngine(board,name='stockfish'):\n",
    "    \n",
    "    engine = chess.uci.popen_engine(config['engines'][name]['location'])\n",
    "    engine.uci()\n",
    "    info_handler = chess.uci.InfoHandler()\n",
    "    engine.info_handlers.append(info_handler)\n",
    "    engine.ucinewgame()\n",
    "    engine.position(board)\n",
    "    return engine,info_handler"
   ]
  },
  {
   "cell_type": "code",
   "execution_count": 161,
   "metadata": {},
   "outputs": [],
   "source": [
    "def playGame(gameFEN= chess.STARTING_FEN,engine1Name='sunfish',engine2Name='stockfish'):  \n",
    "    board=chess.Board(gameFEN)\n",
    "    moveCount=1\n",
    "    gamePlaying=True\n",
    "    movetime_eng1=config['engines'][engine1Name]['movetime']\n",
    "    movetime_eng2=config['engines'][engine2Name]['movetime']\n",
    "    engine1,info1=setupEngine(board,engine1Name)\n",
    "    engine1Move=engine1.go(movetime=movetime_eng1)\n",
    "    board.push(engine1Move.bestmove)\n",
    "    engine2,info2=setupEngine(board,engine2Name)\n",
    "    engine2Move=engine2.go(movetime=movetime_eng2)\n",
    "    board.push(engine2Move.bestmove)    \n",
    "    while  gamePlaying:\n",
    "        print (\"   {} {} {} {} {}\".format(moveCount,engine1Move.bestmove,info1.info[\"score\"][1],engine2Move.bestmove,info2.info[\"score\"][1]))\n",
    "        engine1.position(board)\n",
    "        engine1Move=engine1.go(movetime=movetime_eng1)\n",
    "        board.push(engine1Move.bestmove)\n",
    "        if not board.is_game_over():\n",
    "            engine2.position(board)\n",
    "            engine2Move=engine2.go(movetime=movetime_eng2)\n",
    "            board.push(engine2Move.bestmove) \n",
    "        moveCount+=1\n",
    "        gamePlaying=not board.is_game_over()\n",
    "    engine1.quit()\n",
    "    engine2.quit()\n",
    "    return board\n",
    "    \n",
    "    \n",
    "    "
   ]
  },
  {
   "cell_type": "code",
   "execution_count": null,
   "metadata": {},
   "outputs": [],
   "source": []
  },
  {
   "cell_type": "code",
   "execution_count": null,
   "metadata": {
    "collapsed": true
   },
   "outputs": [],
   "source": []
  },
  {
   "cell_type": "code",
   "execution_count": 162,
   "metadata": {},
   "outputs": [
    {
     "name": "stderr",
     "output_type": "stream",
     "text": [
      "ERROR:chess.engine:exception parsing integer token\n",
      "Traceback (most recent call last):\n",
      "  File \"/home/mike_heward/anaconda3/lib/python3.6/site-packages/python_chess-0.22.0-py3.6.egg/chess/uci.py\", line 446, in handle_integer_token\n",
      "    intval = int(token)\n",
      "ValueError: invalid literal for int() with base 10: 'd2d4'\n",
      "ERROR:chess.engine:exception parsing integer token\n",
      "Traceback (most recent call last):\n",
      "  File \"/home/mike_heward/anaconda3/lib/python3.6/site-packages/python_chess-0.22.0-py3.6.egg/chess/uci.py\", line 446, in handle_integer_token\n",
      "    intval = int(token)\n",
      "ValueError: invalid literal for int() with base 10: 'd2d4'\n",
      "ERROR:chess.engine:exception parsing integer token\n",
      "Traceback (most recent call last):\n",
      "  File \"/home/mike_heward/anaconda3/lib/python3.6/site-packages/python_chess-0.22.0-py3.6.egg/chess/uci.py\", line 446, in handle_integer_token\n",
      "    intval = int(token)\n",
      "ValueError: invalid literal for int() with base 10: 'e7e5'\n",
      "ERROR:chess.engine:exception parsing integer token\n",
      "Traceback (most recent call last):\n",
      "  File \"/home/mike_heward/anaconda3/lib/python3.6/site-packages/python_chess-0.22.0-py3.6.egg/chess/uci.py\", line 446, in handle_integer_token\n",
      "    intval = int(token)\n",
      "ValueError: invalid literal for int() with base 10: 'd2d4'\n",
      "ERROR:chess.engine:exception parsing integer token\n",
      "Traceback (most recent call last):\n",
      "  File \"/home/mike_heward/anaconda3/lib/python3.6/site-packages/python_chess-0.22.0-py3.6.egg/chess/uci.py\", line 446, in handle_integer_token\n",
      "    intval = int(token)\n",
      "ValueError: invalid literal for int() with base 10: 'd2d4'\n",
      "ERROR:chess.engine:exception parsing integer token\n",
      "Traceback (most recent call last):\n",
      "  File \"/home/mike_heward/anaconda3/lib/python3.6/site-packages/python_chess-0.22.0-py3.6.egg/chess/uci.py\", line 446, in handle_integer_token\n",
      "    intval = int(token)\n",
      "ValueError: invalid literal for int() with base 10: 'd7d5'\n",
      "ERROR:chess.engine:exception parsing integer token\n",
      "Traceback (most recent call last):\n",
      "  File \"/home/mike_heward/anaconda3/lib/python3.6/site-packages/python_chess-0.22.0-py3.6.egg/chess/uci.py\", line 446, in handle_integer_token\n",
      "    intval = int(token)\n",
      "ValueError: invalid literal for int() with base 10: 'd2d4'\n",
      "ERROR:chess.engine:exception parsing integer token\n",
      "Traceback (most recent call last):\n",
      "  File \"/home/mike_heward/anaconda3/lib/python3.6/site-packages/python_chess-0.22.0-py3.6.egg/chess/uci.py\", line 446, in handle_integer_token\n",
      "    intval = int(token)\n",
      "ValueError: invalid literal for int() with base 10: 'd7d5'\n",
      "ERROR:chess.engine:exception parsing integer token\n",
      "Traceback (most recent call last):\n",
      "  File \"/home/mike_heward/anaconda3/lib/python3.6/site-packages/python_chess-0.22.0-py3.6.egg/chess/uci.py\", line 446, in handle_integer_token\n",
      "    intval = int(token)\n",
      "ValueError: invalid literal for int() with base 10: 'g1f3'\n",
      "ERROR:chess.engine:exception parsing integer token\n",
      "Traceback (most recent call last):\n",
      "  File \"/home/mike_heward/anaconda3/lib/python3.6/site-packages/python_chess-0.22.0-py3.6.egg/chess/uci.py\", line 446, in handle_integer_token\n",
      "    intval = int(token)\n",
      "ValueError: invalid literal for int() with base 10: 'd2d4'\n",
      "ERROR:chess.engine:exception parsing integer token\n",
      "Traceback (most recent call last):\n",
      "  File \"/home/mike_heward/anaconda3/lib/python3.6/site-packages/python_chess-0.22.0-py3.6.egg/chess/uci.py\", line 446, in handle_integer_token\n",
      "    intval = int(token)\n",
      "ValueError: invalid literal for int() with base 10: 'd2d4'\n",
      "ERROR:chess.engine:exception parsing integer token\n",
      "Traceback (most recent call last):\n",
      "  File \"/home/mike_heward/anaconda3/lib/python3.6/site-packages/python_chess-0.22.0-py3.6.egg/chess/uci.py\", line 446, in handle_integer_token\n",
      "    intval = int(token)\n",
      "ValueError: invalid literal for int() with base 10: 'e7e5'\n",
      "ERROR:chess.engine:exception parsing integer token\n",
      "Traceback (most recent call last):\n",
      "  File \"/home/mike_heward/anaconda3/lib/python3.6/site-packages/python_chess-0.22.0-py3.6.egg/chess/uci.py\", line 446, in handle_integer_token\n",
      "    intval = int(token)\n",
      "ValueError: invalid literal for int() with base 10: 'd2d4'\n",
      "ERROR:chess.engine:exception parsing integer token\n",
      "Traceback (most recent call last):\n",
      "  File \"/home/mike_heward/anaconda3/lib/python3.6/site-packages/python_chess-0.22.0-py3.6.egg/chess/uci.py\", line 446, in handle_integer_token\n",
      "    intval = int(token)\n",
      "ValueError: invalid literal for int() with base 10: 'd2d4'\n",
      "ERROR:chess.engine:exception parsing integer token\n",
      "Traceback (most recent call last):\n",
      "  File \"/home/mike_heward/anaconda3/lib/python3.6/site-packages/python_chess-0.22.0-py3.6.egg/chess/uci.py\", line 446, in handle_integer_token\n",
      "    intval = int(token)\n",
      "ValueError: invalid literal for int() with base 10: 'd7d5'\n",
      "ERROR:chess.engine:exception parsing integer token\n",
      "Traceback (most recent call last):\n",
      "  File \"/home/mike_heward/anaconda3/lib/python3.6/site-packages/python_chess-0.22.0-py3.6.egg/chess/uci.py\", line 446, in handle_integer_token\n",
      "    intval = int(token)\n",
      "ValueError: invalid literal for int() with base 10: 'd2d4'\n",
      "ERROR:chess.engine:exception parsing integer token\n",
      "Traceback (most recent call last):\n",
      "  File \"/home/mike_heward/anaconda3/lib/python3.6/site-packages/python_chess-0.22.0-py3.6.egg/chess/uci.py\", line 446, in handle_integer_token\n",
      "    intval = int(token)\n",
      "ValueError: invalid literal for int() with base 10: 'd7d5'\n",
      "ERROR:chess.engine:exception parsing integer token\n",
      "Traceback (most recent call last):\n",
      "  File \"/home/mike_heward/anaconda3/lib/python3.6/site-packages/python_chess-0.22.0-py3.6.egg/chess/uci.py\", line 446, in handle_integer_token\n",
      "    intval = int(token)\n",
      "ValueError: invalid literal for int() with base 10: 'g1f3'\n",
      "ERROR:chess.engine:exception parsing bestmove\n",
      "Traceback (most recent call last):\n",
      "  File \"/home/mike_heward/anaconda3/lib/python3.6/site-packages/python_chess-0.22.0-py3.6.egg/chess/uci.py\", line 367, in _bestmove\n",
      "    self.bestmove = self.board.parse_uci(tokens[0])\n",
      "  File \"/home/mike_heward/anaconda3/lib/python3.6/site-packages/python_chess-0.22.0-py3.6.egg/chess/__init__.py\", line 2634, in parse_uci\n",
      "    raise ValueError(\"illegal uci: {0} in {1}\".format(repr(uci), self.fen()))\n",
      "ValueError: illegal uci: 'd2d4' in rnbqkbnr/pppppppp/8/8/3P4/8/PPP1PPPP/RNBQKBNR b KQkq - 0 1\n"
     ]
    },
    {
     "ename": "AttributeError",
     "evalue": "'NoneType' object has no attribute 'from_square'",
     "output_type": "error",
     "traceback": [
      "\u001b[0;31m---------------------------------------------------------------------------\u001b[0m",
      "\u001b[0;31mAttributeError\u001b[0m                            Traceback (most recent call last)",
      "\u001b[0;32m<ipython-input-162-7bf0dcea9dd9>\u001b[0m in \u001b[0;36m<module>\u001b[0;34m()\u001b[0m\n\u001b[0;32m----> 1\u001b[0;31m \u001b[0mplayGame\u001b[0m\u001b[0;34m(\u001b[0m\u001b[0;34m)\u001b[0m\u001b[0;34m\u001b[0m\u001b[0m\n\u001b[0m",
      "\u001b[0;32m<ipython-input-161-5a1cca629673>\u001b[0m in \u001b[0;36mplayGame\u001b[0;34m(gameFEN, engine1Name, engine2Name)\u001b[0m\n\u001b[1;32m     10\u001b[0m     \u001b[0mengine2\u001b[0m\u001b[0;34m,\u001b[0m\u001b[0minfo2\u001b[0m\u001b[0;34m=\u001b[0m\u001b[0msetupEngine\u001b[0m\u001b[0;34m(\u001b[0m\u001b[0mboard\u001b[0m\u001b[0;34m,\u001b[0m\u001b[0mengine2Name\u001b[0m\u001b[0;34m)\u001b[0m\u001b[0;34m\u001b[0m\u001b[0m\n\u001b[1;32m     11\u001b[0m     \u001b[0mengine2Move\u001b[0m\u001b[0;34m=\u001b[0m\u001b[0mengine2\u001b[0m\u001b[0;34m.\u001b[0m\u001b[0mgo\u001b[0m\u001b[0;34m(\u001b[0m\u001b[0mmovetime\u001b[0m\u001b[0;34m=\u001b[0m\u001b[0mmovetime_eng2\u001b[0m\u001b[0;34m)\u001b[0m\u001b[0;34m\u001b[0m\u001b[0m\n\u001b[0;32m---> 12\u001b[0;31m     \u001b[0mboard\u001b[0m\u001b[0;34m.\u001b[0m\u001b[0mpush\u001b[0m\u001b[0;34m(\u001b[0m\u001b[0mengine2Move\u001b[0m\u001b[0;34m.\u001b[0m\u001b[0mbestmove\u001b[0m\u001b[0;34m)\u001b[0m\u001b[0;34m\u001b[0m\u001b[0m\n\u001b[0m\u001b[1;32m     13\u001b[0m     \u001b[0;32mwhile\u001b[0m  \u001b[0mgamePlaying\u001b[0m\u001b[0;34m:\u001b[0m\u001b[0;34m\u001b[0m\u001b[0m\n\u001b[1;32m     14\u001b[0m         \u001b[0mprint\u001b[0m \u001b[0;34m(\u001b[0m\u001b[0;34m\"   {} {} {} {} {}\"\u001b[0m\u001b[0;34m.\u001b[0m\u001b[0mformat\u001b[0m\u001b[0;34m(\u001b[0m\u001b[0mmoveCount\u001b[0m\u001b[0;34m,\u001b[0m\u001b[0mengine1Move\u001b[0m\u001b[0;34m.\u001b[0m\u001b[0mbestmove\u001b[0m\u001b[0;34m,\u001b[0m\u001b[0minfo1\u001b[0m\u001b[0;34m.\u001b[0m\u001b[0minfo\u001b[0m\u001b[0;34m[\u001b[0m\u001b[0;34m\"score\"\u001b[0m\u001b[0;34m]\u001b[0m\u001b[0;34m[\u001b[0m\u001b[0;36m1\u001b[0m\u001b[0;34m]\u001b[0m\u001b[0;34m,\u001b[0m\u001b[0mengine2Move\u001b[0m\u001b[0;34m.\u001b[0m\u001b[0mbestmove\u001b[0m\u001b[0;34m,\u001b[0m\u001b[0minfo2\u001b[0m\u001b[0;34m.\u001b[0m\u001b[0minfo\u001b[0m\u001b[0;34m[\u001b[0m\u001b[0;34m\"score\"\u001b[0m\u001b[0;34m]\u001b[0m\u001b[0;34m[\u001b[0m\u001b[0;36m1\u001b[0m\u001b[0;34m]\u001b[0m\u001b[0;34m)\u001b[0m\u001b[0;34m)\u001b[0m\u001b[0;34m\u001b[0m\u001b[0m\n",
      "\u001b[0;32m~/anaconda3/lib/python3.6/site-packages/python_chess-0.22.0-py3.6.egg/chess/__init__.py\u001b[0m in \u001b[0;36mpush\u001b[0;34m(self, move)\u001b[0m\n\u001b[1;32m   1812\u001b[0m         \u001b[0mself\u001b[0m\u001b[0;34m.\u001b[0m\u001b[0mmove_stack\u001b[0m\u001b[0;34m.\u001b[0m\u001b[0mappend\u001b[0m\u001b[0;34m(\u001b[0m\u001b[0mmove\u001b[0m\u001b[0;34m)\u001b[0m\u001b[0;34m\u001b[0m\u001b[0m\n\u001b[1;32m   1813\u001b[0m \u001b[0;34m\u001b[0m\u001b[0m\n\u001b[0;32m-> 1814\u001b[0;31m         \u001b[0mmove\u001b[0m \u001b[0;34m=\u001b[0m \u001b[0mself\u001b[0m\u001b[0;34m.\u001b[0m\u001b[0m_to_chess960\u001b[0m\u001b[0;34m(\u001b[0m\u001b[0mmove\u001b[0m\u001b[0;34m)\u001b[0m\u001b[0;34m\u001b[0m\u001b[0m\n\u001b[0m\u001b[1;32m   1815\u001b[0m \u001b[0;34m\u001b[0m\u001b[0m\n\u001b[1;32m   1816\u001b[0m         \u001b[0;31m# Reset en passant square.\u001b[0m\u001b[0;34m\u001b[0m\u001b[0;34m\u001b[0m\u001b[0m\n",
      "\u001b[0;32m~/anaconda3/lib/python3.6/site-packages/python_chess-0.22.0-py3.6.egg/chess/__init__.py\u001b[0m in \u001b[0;36m_to_chess960\u001b[0;34m(self, move)\u001b[0m\n\u001b[1;32m   3121\u001b[0m \u001b[0;34m\u001b[0m\u001b[0m\n\u001b[1;32m   3122\u001b[0m     \u001b[0;32mdef\u001b[0m \u001b[0m_to_chess960\u001b[0m\u001b[0;34m(\u001b[0m\u001b[0mself\u001b[0m\u001b[0;34m,\u001b[0m \u001b[0mmove\u001b[0m\u001b[0;34m)\u001b[0m\u001b[0;34m:\u001b[0m\u001b[0;34m\u001b[0m\u001b[0m\n\u001b[0;32m-> 3123\u001b[0;31m         \u001b[0;32mif\u001b[0m \u001b[0mmove\u001b[0m\u001b[0;34m.\u001b[0m\u001b[0mfrom_square\u001b[0m \u001b[0;34m==\u001b[0m \u001b[0mE1\u001b[0m \u001b[0;32mand\u001b[0m \u001b[0mself\u001b[0m\u001b[0;34m.\u001b[0m\u001b[0mkings\u001b[0m \u001b[0;34m&\u001b[0m \u001b[0mBB_E1\u001b[0m\u001b[0;34m:\u001b[0m\u001b[0;34m\u001b[0m\u001b[0m\n\u001b[0m\u001b[1;32m   3124\u001b[0m             \u001b[0;32mif\u001b[0m \u001b[0mmove\u001b[0m\u001b[0;34m.\u001b[0m\u001b[0mto_square\u001b[0m \u001b[0;34m==\u001b[0m \u001b[0mG1\u001b[0m \u001b[0;32mand\u001b[0m \u001b[0;32mnot\u001b[0m \u001b[0mself\u001b[0m\u001b[0;34m.\u001b[0m\u001b[0mrooks\u001b[0m \u001b[0;34m&\u001b[0m \u001b[0mBB_G1\u001b[0m\u001b[0;34m:\u001b[0m\u001b[0;34m\u001b[0m\u001b[0m\n\u001b[1;32m   3125\u001b[0m                 \u001b[0;32mreturn\u001b[0m \u001b[0mMove\u001b[0m\u001b[0;34m(\u001b[0m\u001b[0mE1\u001b[0m\u001b[0;34m,\u001b[0m \u001b[0mH1\u001b[0m\u001b[0;34m)\u001b[0m\u001b[0;34m\u001b[0m\u001b[0m\n",
      "\u001b[0;31mAttributeError\u001b[0m: 'NoneType' object has no attribute 'from_square'"
     ]
    }
   ],
   "source": [
    "playGame()\n"
   ]
  },
  {
   "cell_type": "code",
   "execution_count": null,
   "metadata": {},
   "outputs": [],
   "source": [
    "\n",
    "board"
   ]
  },
  {
   "cell_type": "code",
   "execution_count": 108,
   "metadata": {},
   "outputs": [
    {
     "data": {
      "text/plain": [
       "Move.from_uci('e2e4')"
      ]
     },
     "execution_count": 108,
     "metadata": {},
     "output_type": "execute_result"
    }
   ],
   "source": [
    "mv.bestmove"
   ]
  },
  {
   "cell_type": "code",
   "execution_count": null,
   "metadata": {
    "collapsed": true
   },
   "outputs": [],
   "source": []
  }
 ],
 "metadata": {
  "kernelspec": {
   "display_name": "Python 3",
   "language": "python",
   "name": "python3"
  },
  "language_info": {
   "codemirror_mode": {
    "name": "ipython",
    "version": 3
   },
   "file_extension": ".py",
   "mimetype": "text/x-python",
   "name": "python",
   "nbconvert_exporter": "python",
   "pygments_lexer": "ipython3",
   "version": "3.6.3"
  }
 },
 "nbformat": 4,
 "nbformat_minor": 2
}
